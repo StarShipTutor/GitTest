{
 "cells": [
  {
   "cell_type": "code",
   "execution_count": null,
   "outputs": [],
   "source": [
    "!pip install wbdata\n",
    "\n",
    "!pip install pandas_datareader"
   ],
   "metadata": {
    "collapsed": false,
    "pycharm": {
     "name": "#%%\n",
     "is_executing": true
    }
   }
  },
  {
   "cell_type": "code",
   "execution_count": 2,
   "outputs": [],
   "source": [
    "import pandas as pd\n",
    "\n",
    "from pandas_datareader import wb\n"
   ],
   "metadata": {
    "collapsed": false,
    "pycharm": {
     "name": "#%%\n"
    }
   }
  },
  {
   "cell_type": "code",
   "execution_count": 19,
   "outputs": [
    {
     "name": "stdout",
     "output_type": "stream",
     "text": [
      "type(wb_countries)  <class 'pandas.core.frame.DataFrame'>\n",
      "type(country_list)  <class 'pandas.core.series.Series'>\n",
      "\n",
      "wb_countries.columns.tolist()\n",
      "['iso3c', 'iso2c', 'name', 'region', 'adminregion', 'incomeLevel', 'lendingType', 'capitalCity', 'longitude', 'latitude']\n",
      "\n",
      "    iso3c iso2c                                               name  \\\n",
      "0     ABW    AW                                              Aruba   \n",
      "1     AFE    ZH                        Africa Eastern and Southern   \n",
      "2     AFG    AF                                        Afghanistan   \n",
      "3     AFR    A9                                             Africa   \n",
      "4     AFW    ZI                         Africa Western and Central   \n",
      "..    ...   ...                                                ...   \n",
      "292   XZN    A5  Sub-Saharan Africa excluding South Africa and ...   \n",
      "293   YEM    YE                                        Yemen, Rep.   \n",
      "294   ZAF    ZA                                       South Africa   \n",
      "295   ZMB    ZM                                             Zambia   \n",
      "296   ZWE    ZW                                           Zimbabwe   \n",
      "\n",
      "                         region  \\\n",
      "0    Latin America & Caribbean    \n",
      "1                    Aggregates   \n",
      "2                    South Asia   \n",
      "3                    Aggregates   \n",
      "4                    Aggregates   \n",
      "..                          ...   \n",
      "292                  Aggregates   \n",
      "293  Middle East & North Africa   \n",
      "294         Sub-Saharan Africa    \n",
      "295         Sub-Saharan Africa    \n",
      "296         Sub-Saharan Africa    \n",
      "\n",
      "                                           adminregion          incomeLevel  \\\n",
      "0                                                               High income   \n",
      "1                                                                Aggregates   \n",
      "2                                           South Asia           Low income   \n",
      "3                                                                Aggregates   \n",
      "4                                                                Aggregates   \n",
      "..                                                 ...                  ...   \n",
      "292                                                              Aggregates   \n",
      "293  Middle East & North Africa (excluding high inc...           Low income   \n",
      "294         Sub-Saharan Africa (excluding high income)  Upper middle income   \n",
      "295         Sub-Saharan Africa (excluding high income)  Lower middle income   \n",
      "296         Sub-Saharan Africa (excluding high income)  Lower middle income   \n",
      "\n",
      "        lendingType capitalCity  longitude  latitude  \n",
      "0    Not classified  Oranjestad   -70.0167   12.5167  \n",
      "1        Aggregates                    NaN       NaN  \n",
      "2               IDA       Kabul    69.1761   34.5228  \n",
      "3        Aggregates                    NaN       NaN  \n",
      "4        Aggregates                    NaN       NaN  \n",
      "..              ...         ...        ...       ...  \n",
      "292      Aggregates                    NaN       NaN  \n",
      "293             IDA      Sana'a    44.2075   15.3520  \n",
      "294            IBRD    Pretoria    28.1871  -25.7460  \n",
      "295             IDA      Lusaka    28.2937  -15.3982  \n",
      "296           Blend      Harare    31.0672  -17.8312  \n",
      "\n",
      "[297 rows x 10 columns]\n",
      "0             Aruba\n",
      "1       Afghanistan\n",
      "2            Angola\n",
      "3           Albania\n",
      "4           Andorra\n",
      "           ...     \n",
      "213          Kosovo\n",
      "214     Yemen, Rep.\n",
      "215    South Africa\n",
      "216          Zambia\n",
      "217        Zimbabwe\n",
      "Name: name, Length: 218, dtype: object\n"
     ]
    }
   ],
   "source": [
    "\n",
    "wb_countries = wb.get_countries()\n",
    "print(\"type(wb_countries) \", type(wb_countries))\n",
    "country_list = wb_countries[wb_countries['region']!='Aggregates']['name'].reset_index(drop=True)\n",
    "print(\"type(country_list) \", type(country_list))\n",
    "print(\"\")\n",
    "print(\"wb_countries.columns.tolist()\")\n",
    "\n",
    "print(wb_countries.columns.tolist())\n",
    "print(\"\")\n",
    "\n",
    "print (wb_countries)\n",
    "print (country_list)\n"
   ],
   "metadata": {
    "collapsed": false,
    "pycharm": {
     "name": "#%%\n"
    }
   }
  },
  {
   "cell_type": "code",
   "execution_count": 14,
   "outputs": [
    {
     "name": "stdout",
     "output_type": "stream",
     "text": [
      "<class 'pandas.core.frame.DataFrame'>\n"
     ]
    }
   ],
   "source": [],
   "metadata": {
    "collapsed": false,
    "pycharm": {
     "name": "#%%\n"
    }
   }
  },
  {
   "cell_type": "code",
   "execution_count": 4,
   "outputs": [
    {
     "name": "stdout",
     "output_type": "stream",
     "text": [
      "['EN.POP.DNST', 'SP.POP.TOTL', 'SM.POP.NETM']\n"
     ]
    }
   ],
   "source": [
    "indicator_ids = ['EN.POP.DNST', 'SP.POP.TOTL', 'SM.POP.NETM']\n",
    "\n",
    "print(indicator_ids)"
   ],
   "metadata": {
    "collapsed": false,
    "pycharm": {
     "name": "#%%\n"
    }
   }
  },
  {
   "cell_type": "code",
   "execution_count": 7,
   "outputs": [
    {
     "name": "stdout",
     "output_type": "stream",
     "text": [
      "                                  SM.POP.NETM\n",
      "country                     year             \n",
      "Africa Eastern and Southern 2022          NaN\n",
      "                            2021    -179444.0\n",
      "                            2020     -48955.0\n",
      "                            2019    -187410.0\n",
      "                            2018    -366105.0\n",
      "...                                       ...\n",
      "Zimbabwe                    1964     -10064.0\n",
      "                            1963      -9369.0\n",
      "                            1962      -8931.0\n",
      "                            1961      -8582.0\n",
      "                            1960      -8256.0\n",
      "\n",
      "[16758 rows x 1 columns]\n",
      "                                  EN.POP.DNST\n",
      "country                     year             \n",
      "Africa Eastern and Southern 2022          NaN\n",
      "                            2021          NaN\n",
      "                            2020    46.150711\n",
      "                            2019    44.946830\n",
      "                            2018    43.768985\n",
      "...                                       ...\n",
      "Zimbabwe                    1964    11.142127\n",
      "                            1963    10.799873\n",
      "                            1962    10.468600\n",
      "                            1961    10.148512\n",
      "                            1960          NaN\n",
      "\n",
      "[16758 rows x 1 columns]\n",
      "                                  SP.POP.TOTL\n",
      "country                     year             \n",
      "Africa Eastern and Southern 2022  720839314.0\n",
      "                            2021  702977106.0\n",
      "                            2020  685112979.0\n",
      "                            2019  667242986.0\n",
      "                            2018  649757148.0\n",
      "...                                       ...\n",
      "Zimbabwe                    1964    4310332.0\n",
      "                            1963    4177931.0\n",
      "                            1962    4049778.0\n",
      "                            1961    3925952.0\n",
      "                            1960    3806310.0\n",
      "\n",
      "[16758 rows x 1 columns]\n"
     ]
    }
   ],
   "source": [
    "migration = wb.WorldBankReader(symbols=['SM.POP.NETM'], start=1950, end=2022, countries='all').read()\n",
    "pop_density = wb.WorldBankReader(symbols=['EN.POP.DNST'], start=1950, end=2022, countries='all').read()\n",
    "population = wb.WorldBankReader(symbols=['SP.POP.TOTL'], start=1950, end=2022, countries='all').read()\n",
    "\n",
    "print(migration)\n",
    "print(pop_density)\n",
    "print(population)\n"
   ],
   "metadata": {
    "collapsed": false,
    "pycharm": {
     "name": "#%%\n"
    }
   }
  },
  {
   "cell_type": "code",
   "execution_count": 8,
   "outputs": [
    {
     "name": "stdout",
     "output_type": "stream",
     "text": [
      "                           country  year  EN.POP.DNST\n",
      "0      Africa Eastern and Southern  2022          NaN\n",
      "1      Africa Eastern and Southern  2021          NaN\n",
      "2      Africa Eastern and Southern  2020    46.150711\n",
      "3      Africa Eastern and Southern  2019    44.946830\n",
      "4      Africa Eastern and Southern  2018    43.768985\n",
      "...                            ...   ...          ...\n",
      "16753                     Zimbabwe  1964    11.142127\n",
      "16754                     Zimbabwe  1963    10.799873\n",
      "16755                     Zimbabwe  1962    10.468600\n",
      "16756                     Zimbabwe  1961    10.148512\n",
      "16757                     Zimbabwe  1960          NaN\n",
      "\n",
      "[16758 rows x 3 columns]\n",
      "                           country  year  SP.POP.TOTL\n",
      "0      Africa Eastern and Southern  2022  720839314.0\n",
      "1      Africa Eastern and Southern  2021  702977106.0\n",
      "2      Africa Eastern and Southern  2020  685112979.0\n",
      "3      Africa Eastern and Southern  2019  667242986.0\n",
      "4      Africa Eastern and Southern  2018  649757148.0\n",
      "...                            ...   ...          ...\n",
      "16753                     Zimbabwe  1964    4310332.0\n",
      "16754                     Zimbabwe  1963    4177931.0\n",
      "16755                     Zimbabwe  1962    4049778.0\n",
      "16756                     Zimbabwe  1961    3925952.0\n",
      "16757                     Zimbabwe  1960    3806310.0\n",
      "\n",
      "[16758 rows x 3 columns]\n",
      "                           country  year  SM.POP.NETM\n",
      "0      Africa Eastern and Southern  2022          NaN\n",
      "1      Africa Eastern and Southern  2021    -179444.0\n",
      "2      Africa Eastern and Southern  2020     -48955.0\n",
      "3      Africa Eastern and Southern  2019    -187410.0\n",
      "4      Africa Eastern and Southern  2018    -366105.0\n",
      "...                            ...   ...          ...\n",
      "16753                     Zimbabwe  1964     -10064.0\n",
      "16754                     Zimbabwe  1963      -9369.0\n",
      "16755                     Zimbabwe  1962      -8931.0\n",
      "16756                     Zimbabwe  1961      -8582.0\n",
      "16757                     Zimbabwe  1960      -8256.0\n",
      "\n",
      "[16758 rows x 3 columns]\n"
     ]
    }
   ],
   "source": [
    "pop_density_countries = pop_density.reset_index()#.query('country in @country_list').reset_index(drop=True)\n",
    "population_countries = population.reset_index()#.query('country in @country_list').reset_index(drop=True)\n",
    "migration_countries = migration.reset_index()#.query('country in @country_list').reset_index(drop=True)\n",
    "\n",
    "print(pop_density_countries)\n",
    "print(population_countries)\n",
    "print(migration_countries)\n"
   ],
   "metadata": {
    "collapsed": false,
    "pycharm": {
     "name": "#%%\n"
    }
   }
  },
  {
   "cell_type": "code",
   "execution_count": 9,
   "outputs": [
    {
     "name": "stdout",
     "output_type": "stream",
     "text": [
      "                           country  year  SP.POP.TOTL  EN.POP.DNST\n",
      "0      Africa Eastern and Southern  2022  720839314.0          NaN\n",
      "1      Africa Eastern and Southern  2021  702977106.0          NaN\n",
      "2      Africa Eastern and Southern  2020  685112979.0    46.150711\n",
      "3      Africa Eastern and Southern  2019  667242986.0    44.946830\n",
      "4      Africa Eastern and Southern  2018  649757148.0    43.768985\n",
      "...                            ...   ...          ...          ...\n",
      "16753                     Zimbabwe  1964    4310332.0    11.142127\n",
      "16754                     Zimbabwe  1963    4177931.0    10.799873\n",
      "16755                     Zimbabwe  1962    4049778.0    10.468600\n",
      "16756                     Zimbabwe  1961    3925952.0    10.148512\n",
      "16757                     Zimbabwe  1960    3806310.0          NaN\n",
      "\n",
      "[16758 rows x 4 columns]\n"
     ]
    }
   ],
   "source": [
    "\n",
    "pop_density_merged = pd.merge(population_countries, pop_density_countries, on=['country', 'year'], how='outer')\n",
    "\n",
    "print(pop_density_merged)"
   ],
   "metadata": {
    "collapsed": false,
    "pycharm": {
     "name": "#%%\n"
    }
   }
  },
  {
   "cell_type": "code",
   "execution_count": 11,
   "outputs": [
    {
     "name": "stdout",
     "output_type": "stream",
     "text": [
      "['country', 'year', 'population', 'pop_density', 'net_migration', 'migration_perc']\n",
      "                           country  year   population  pop_density  \\\n",
      "0      Africa Eastern and Southern  2022  720839314.0          NaN   \n",
      "1      Africa Eastern and Southern  2021  702977106.0          NaN   \n",
      "2      Africa Eastern and Southern  2020  685112979.0    46.150711   \n",
      "3      Africa Eastern and Southern  2019  667242986.0    44.946830   \n",
      "4      Africa Eastern and Southern  2018  649757148.0    43.768985   \n",
      "...                            ...   ...          ...          ...   \n",
      "16753                     Zimbabwe  1964    4310332.0    11.142127   \n",
      "16754                     Zimbabwe  1963    4177931.0    10.799873   \n",
      "16755                     Zimbabwe  1962    4049778.0    10.468600   \n",
      "16756                     Zimbabwe  1961    3925952.0    10.148512   \n",
      "16757                     Zimbabwe  1960    3806310.0          NaN   \n",
      "\n",
      "       net_migration  migration_perc  \n",
      "0                NaN             NaN  \n",
      "1          -179444.0       -0.000255  \n",
      "2           -48955.0       -0.000071  \n",
      "3          -187410.0       -0.000281  \n",
      "4          -366105.0       -0.000563  \n",
      "...              ...             ...  \n",
      "16753       -10064.0       -0.002335  \n",
      "16754        -9369.0       -0.002242  \n",
      "16755        -8931.0       -0.002205  \n",
      "16756        -8582.0       -0.002186  \n",
      "16757        -8256.0       -0.002169  \n",
      "\n",
      "[16758 rows x 6 columns]\n"
     ]
    }
   ],
   "source": [
    "migration_final = (pd.merge(pop_density_merged, migration_countries, on=['country', 'year'], how='outer')\n",
    "                   .rename(columns={'SP.POP.TOTL': 'population',\n",
    "                                    'EN.POP.DNST': 'pop_density',\n",
    "                                    'SM.POP.NETM': 'net_migration'})\n",
    "                   .assign(migration_perc=lambda df: df['net_migration'].div(df['population'])))\n",
    "\n",
    "column_names = migration_final.columns.tolist()\n",
    "\n",
    "print(column_names)\n",
    "print(migration_final)"
   ],
   "metadata": {
    "collapsed": false,
    "pycharm": {
     "name": "#%%\n"
    }
   }
  },
  {
   "cell_type": "code",
   "execution_count": 12,
   "outputs": [
    {
     "name": "stdout",
     "output_type": "stream",
     "text": [
      "['country', 'year', 'population', 'pop_density', 'net_migration', 'migration_perc', 'iso3c', 'iso2c', 'name', 'region', 'adminregion', 'incomeLevel', 'lendingType', 'capitalCity', 'longitude', 'latitude']\n",
      "                           country  year   population  pop_density  \\\n",
      "0      Africa Eastern and Southern  2022  720839314.0          NaN   \n",
      "1      Africa Eastern and Southern  2021  702977106.0          NaN   \n",
      "2      Africa Eastern and Southern  2020  685112979.0    46.150711   \n",
      "3      Africa Eastern and Southern  2019  667242986.0    44.946830   \n",
      "4      Africa Eastern and Southern  2018  649757148.0    43.768985   \n",
      "...                            ...   ...          ...          ...   \n",
      "16753                     Zimbabwe  1964    4310332.0    11.142127   \n",
      "16754                     Zimbabwe  1963    4177931.0    10.799873   \n",
      "16755                     Zimbabwe  1962    4049778.0    10.468600   \n",
      "16756                     Zimbabwe  1961    3925952.0    10.148512   \n",
      "16757                     Zimbabwe  1960    3806310.0          NaN   \n",
      "\n",
      "       net_migration  migration_perc iso3c iso2c                         name  \\\n",
      "0                NaN             NaN   AFE    ZH  Africa Eastern and Southern   \n",
      "1          -179444.0       -0.000255   AFE    ZH  Africa Eastern and Southern   \n",
      "2           -48955.0       -0.000071   AFE    ZH  Africa Eastern and Southern   \n",
      "3          -187410.0       -0.000281   AFE    ZH  Africa Eastern and Southern   \n",
      "4          -366105.0       -0.000563   AFE    ZH  Africa Eastern and Southern   \n",
      "...              ...             ...   ...   ...                          ...   \n",
      "16753       -10064.0       -0.002335   ZWE    ZW                     Zimbabwe   \n",
      "16754        -9369.0       -0.002242   ZWE    ZW                     Zimbabwe   \n",
      "16755        -8931.0       -0.002205   ZWE    ZW                     Zimbabwe   \n",
      "16756        -8582.0       -0.002186   ZWE    ZW                     Zimbabwe   \n",
      "16757        -8256.0       -0.002169   ZWE    ZW                     Zimbabwe   \n",
      "\n",
      "                    region                                 adminregion  \\\n",
      "0               Aggregates                                               \n",
      "1               Aggregates                                               \n",
      "2               Aggregates                                               \n",
      "3               Aggregates                                               \n",
      "4               Aggregates                                               \n",
      "...                    ...                                         ...   \n",
      "16753  Sub-Saharan Africa   Sub-Saharan Africa (excluding high income)   \n",
      "16754  Sub-Saharan Africa   Sub-Saharan Africa (excluding high income)   \n",
      "16755  Sub-Saharan Africa   Sub-Saharan Africa (excluding high income)   \n",
      "16756  Sub-Saharan Africa   Sub-Saharan Africa (excluding high income)   \n",
      "16757  Sub-Saharan Africa   Sub-Saharan Africa (excluding high income)   \n",
      "\n",
      "               incomeLevel lendingType capitalCity  longitude  latitude  \n",
      "0               Aggregates  Aggregates                    NaN       NaN  \n",
      "1               Aggregates  Aggregates                    NaN       NaN  \n",
      "2               Aggregates  Aggregates                    NaN       NaN  \n",
      "3               Aggregates  Aggregates                    NaN       NaN  \n",
      "4               Aggregates  Aggregates                    NaN       NaN  \n",
      "...                    ...         ...         ...        ...       ...  \n",
      "16753  Lower middle income       Blend      Harare    31.0672  -17.8312  \n",
      "16754  Lower middle income       Blend      Harare    31.0672  -17.8312  \n",
      "16755  Lower middle income       Blend      Harare    31.0672  -17.8312  \n",
      "16756  Lower middle income       Blend      Harare    31.0672  -17.8312  \n",
      "16757  Lower middle income       Blend      Harare    31.0672  -17.8312  \n",
      "\n",
      "[16758 rows x 16 columns]\n"
     ]
    }
   ],
   "source": [
    "migration_final = pd.merge(migration_final, wb_countries, how='left', left_on='country', right_on='name')\n",
    "\n",
    "column_names = migration_final.columns.tolist()\n",
    "\n",
    "print(column_names)\n",
    "print(migration_final)\n"
   ],
   "metadata": {
    "collapsed": false,
    "pycharm": {
     "name": "#%%\n"
    }
   }
  },
  {
   "cell_type": "code",
   "execution_count": 13,
   "outputs": [
    {
     "name": "stdout",
     "output_type": "stream",
     "text": [
      "['country', 'year', 'population', 'pop_density', 'net_migration', 'migration_perc', 'iso3c', 'iso2c', 'name', 'region', 'adminregion', 'incomeLevel', 'lendingType', 'capitalCity', 'longitude', 'latitude']\n",
      "                           country  year   population  pop_density  \\\n",
      "0      Africa Eastern and Southern  2022  720839314.0          NaN   \n",
      "1      Africa Eastern and Southern  2021  702977106.0          NaN   \n",
      "2      Africa Eastern and Southern  2020  685112979.0    46.150711   \n",
      "3      Africa Eastern and Southern  2019  667242986.0    44.946830   \n",
      "4      Africa Eastern and Southern  2018  649757148.0    43.768985   \n",
      "...                            ...   ...          ...          ...   \n",
      "16753                     Zimbabwe  1964    4310332.0    11.142127   \n",
      "16754                     Zimbabwe  1963    4177931.0    10.799873   \n",
      "16755                     Zimbabwe  1962    4049778.0    10.468600   \n",
      "16756                     Zimbabwe  1961    3925952.0    10.148512   \n",
      "16757                     Zimbabwe  1960    3806310.0          NaN   \n",
      "\n",
      "       net_migration  migration_perc iso3c iso2c                         name  \\\n",
      "0                NaN             NaN   AFE    ZH  Africa Eastern and Southern   \n",
      "1          -179444.0       -0.000255   AFE    ZH  Africa Eastern and Southern   \n",
      "2           -48955.0       -0.000071   AFE    ZH  Africa Eastern and Southern   \n",
      "3          -187410.0       -0.000281   AFE    ZH  Africa Eastern and Southern   \n",
      "4          -366105.0       -0.000563   AFE    ZH  Africa Eastern and Southern   \n",
      "...              ...             ...   ...   ...                          ...   \n",
      "16753       -10064.0       -0.002335   ZWE    ZW                     Zimbabwe   \n",
      "16754        -9369.0       -0.002242   ZWE    ZW                     Zimbabwe   \n",
      "16755        -8931.0       -0.002205   ZWE    ZW                     Zimbabwe   \n",
      "16756        -8582.0       -0.002186   ZWE    ZW                     Zimbabwe   \n",
      "16757        -8256.0       -0.002169   ZWE    ZW                     Zimbabwe   \n",
      "\n",
      "                    region                                 adminregion  \\\n",
      "0               Aggregates                                               \n",
      "1               Aggregates                                               \n",
      "2               Aggregates                                               \n",
      "3               Aggregates                                               \n",
      "4               Aggregates                                               \n",
      "...                    ...                                         ...   \n",
      "16753  Sub-Saharan Africa   Sub-Saharan Africa (excluding high income)   \n",
      "16754  Sub-Saharan Africa   Sub-Saharan Africa (excluding high income)   \n",
      "16755  Sub-Saharan Africa   Sub-Saharan Africa (excluding high income)   \n",
      "16756  Sub-Saharan Africa   Sub-Saharan Africa (excluding high income)   \n",
      "16757  Sub-Saharan Africa   Sub-Saharan Africa (excluding high income)   \n",
      "\n",
      "               incomeLevel lendingType capitalCity  longitude  latitude  \n",
      "0               Aggregates  Aggregates                    NaN       NaN  \n",
      "1               Aggregates  Aggregates                    NaN       NaN  \n",
      "2               Aggregates  Aggregates                    NaN       NaN  \n",
      "3               Aggregates  Aggregates                    NaN       NaN  \n",
      "4               Aggregates  Aggregates                    NaN       NaN  \n",
      "...                    ...         ...         ...        ...       ...  \n",
      "16753  Lower middle income       Blend      Harare    31.0672  -17.8312  \n",
      "16754  Lower middle income       Blend      Harare    31.0672  -17.8312  \n",
      "16755  Lower middle income       Blend      Harare    31.0672  -17.8312  \n",
      "16756  Lower middle income       Blend      Harare    31.0672  -17.8312  \n",
      "16757  Lower middle income       Blend      Harare    31.0672  -17.8312  \n",
      "\n",
      "[16758 rows x 16 columns]\n"
     ]
    }
   ],
   "source": [
    "migration_final.drop('name', axis=1).to_csv('migration_population.csv', index=False)\n",
    "\n",
    "column_names = migration_final.columns.tolist()\n",
    "\n",
    "print(column_names)\n",
    "print(migration_final)\n"
   ],
   "metadata": {
    "collapsed": false,
    "pycharm": {
     "name": "#%%\n"
    }
   }
  },
  {
   "cell_type": "code",
   "execution_count": null,
   "outputs": [],
   "source": [],
   "metadata": {
    "collapsed": false,
    "pycharm": {
     "name": "#%%\n"
    }
   }
  }
 ],
 "metadata": {
  "kernelspec": {
   "display_name": "Python 3",
   "language": "python",
   "name": "python3"
  },
  "language_info": {
   "codemirror_mode": {
    "name": "ipython",
    "version": 2
   },
   "file_extension": ".py",
   "mimetype": "text/x-python",
   "name": "python",
   "nbconvert_exporter": "python",
   "pygments_lexer": "ipython2",
   "version": "2.7.6"
  }
 },
 "nbformat": 4,
 "nbformat_minor": 0
}